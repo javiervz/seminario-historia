{
 "cells": [
  {
   "cell_type": "markdown",
   "id": "7f722368",
   "metadata": {},
   "source": [
    "Leemos los datos"
   ]
  },
  {
   "cell_type": "code",
   "execution_count": 6,
   "id": "305056ee",
   "metadata": {},
   "outputs": [],
   "source": [
    "import glob\n",
    "\n",
    "files = glob.glob('./datos/*.xml', recursive = True)"
   ]
  },
  {
   "cell_type": "code",
   "execution_count": 7,
   "id": "df159776",
   "metadata": {},
   "outputs": [
    {
     "data": {
      "text/plain": [
       "['./datos\\\\El_Telegrafo_Num_04_Mariana_pdf.xml']"
      ]
     },
     "execution_count": 7,
     "metadata": {},
     "output_type": "execute_result"
    }
   ],
   "source": [
    "files"
   ]
  },
  {
   "cell_type": "code",
   "execution_count": 8,
   "id": "cd6dcc30",
   "metadata": {},
   "outputs": [],
   "source": [
    "from bs4 import BeautifulSoup"
   ]
  },
  {
   "cell_type": "code",
   "execution_count": 20,
   "id": "ee638efb",
   "metadata": {},
   "outputs": [],
   "source": [
    "D = {}\n",
    "\n",
    "for file in files:\n",
    "    with open(file, 'r', encoding=\"utf8\") as f:\n",
    "        data = f.read()\n",
    "        data = BeautifulSoup(data, \"xml\")\n",
    "        D[file.split('\\\\')[1][:-4]] = data"
   ]
  },
  {
   "cell_type": "code",
   "execution_count": 35,
   "id": "799d6564",
   "metadata": {},
   "outputs": [],
   "source": [
    "s = D['El_Telegrafo_Num_04_Mariana_pdf'].find_all('rs')"
   ]
  },
  {
   "cell_type": "code",
   "execution_count": 42,
   "id": "1e8f4e88",
   "metadata": {},
   "outputs": [
    {
     "data": {
      "text/plain": [
       "[<rs type=\"place\">Arequipa</rs>,\n",
       " <rs type=\"place\">PUERTO DEL CALLAO</rs>,\n",
       " <rs type=\"person\">Jose Agustin Cubilla</rs>,\n",
       " <rs type=\"place\">Estados Unidos</rs>,\n",
       " <rs type=\"place\">Coquimbo</rs>]"
      ]
     },
     "execution_count": 42,
     "metadata": {},
     "output_type": "execute_result"
    }
   ],
   "source": [
    "s"
   ]
  },
  {
   "cell_type": "code",
   "execution_count": 60,
   "id": "c8efb7a9",
   "metadata": {},
   "outputs": [],
   "source": [
    "d = []\n",
    "\n",
    "# Itera sobre la lista de datos\n",
    "for item in s:\n",
    "    # Encuentra la etiqueta y el contenido usando slicing\n",
    "    start_index = str(item).find('>') + 1\n",
    "    end_index = str(item).rfind('<')\n",
    "    content = str(item)[start_index:end_index].strip()\n",
    "    \n",
    "    # Encuentra el tipo de etiqueta usando slicing\n",
    "    type_start = str(item).find('\"') + 1\n",
    "    type_end = str(item).find('\"', type_start)\n",
    "    label = str(item)[type_start:type_end].lower()  # Convertir a minúsculas\n",
    "    \n",
    "    # Agrega al diccionario\n",
    "    d  += [{label:content}]\n",
    "    \n",
    "etiquetas = {key:[] for key in [list(x.keys())[0] for x in d]}\n",
    "\n",
    "for item in d:\n",
    "    etiquetas[list(item.keys())[0]] += [item[list(item.keys())[0]]]"
   ]
  },
  {
   "cell_type": "code",
   "execution_count": 65,
   "id": "4cc93862",
   "metadata": {},
   "outputs": [
    {
     "data": {
      "text/plain": [
       "{'place': ['Arequipa', 'PUERTO DEL CALLAO', 'Estados Unidos', 'Coquimbo'],\n",
       " 'person': ['Jose Agustin Cubilla']}"
      ]
     },
     "execution_count": 65,
     "metadata": {},
     "output_type": "execute_result"
    }
   ],
   "source": [
    "etiquetas"
   ]
  },
  {
   "cell_type": "code",
   "execution_count": null,
   "id": "df2c5a52",
   "metadata": {},
   "outputs": [],
   "source": []
  }
 ],
 "metadata": {
  "kernelspec": {
   "display_name": "Python 3 (ipykernel)",
   "language": "python",
   "name": "python3"
  },
  "language_info": {
   "codemirror_mode": {
    "name": "ipython",
    "version": 3
   },
   "file_extension": ".py",
   "mimetype": "text/x-python",
   "name": "python",
   "nbconvert_exporter": "python",
   "pygments_lexer": "ipython3",
   "version": "3.11.4"
  }
 },
 "nbformat": 4,
 "nbformat_minor": 5
}
